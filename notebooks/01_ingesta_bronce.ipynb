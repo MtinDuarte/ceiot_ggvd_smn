{
 "cells": [
  {
   "cell_type": "markdown",
   "id": "0303ce6d",
   "metadata": {},
   "source": [
    "# Clase 3 – Ingesta y Capa Bronce"
   ]
  },
  {
   "cell_type": "markdown",
   "id": "938a3d2d",
   "metadata": {},
   "source": [
    "En esta notebook se inicia la construcción del pipeline de datos meteorológicos, trabajando con los archivos crudos provistos por el SMN.\n"
   ]
  },
  {
   "cell_type": "markdown",
   "id": "f1c87778",
   "metadata": {},
   "source": [
    "## 1. Librerías necesarias"
   ]
  },
  {
   "cell_type": "code",
   "execution_count": 1,
   "id": "573fb540",
   "metadata": {},
   "outputs": [],
   "source": [
    "import pandas as pd\n",
    "import numpy as np\n",
    "import re\n",
    "import os\n",
    "from pathlib import Path\n"
   ]
  },
  {
   "cell_type": "markdown",
   "id": "47201f0b",
   "metadata": {},
   "source": [
    "## 2. Configuración de paths y carpetas"
   ]
  },
  {
   "cell_type": "code",
   "execution_count": 2,
   "id": "069e436c",
   "metadata": {},
   "outputs": [],
   "source": [
    "BASE_DIR = Path('..').resolve()\n",
    "RAW_DIR = BASE_DIR / 'data' / 'raw'\n",
    "BRONCE_DIR = BASE_DIR / 'data' / 'bronce'\n",
    "\n",
    "# Crear carpetas si no existen\n",
    "for path in [BRONCE_DIR]:\n",
    "    path.mkdir(parents=True, exist_ok=True)\n"
   ]
  },
  {
   "cell_type": "markdown",
   "id": "89cba45b",
   "metadata": {},
   "source": [
    "## 3. Lectura del archivo de estaciones"
   ]
  },
  {
   "cell_type": "code",
   "execution_count": 3,
   "id": "c3fd630d",
   "metadata": {},
   "outputs": [
    {
     "data": {
      "text/html": [
       "<div>\n",
       "<style scoped>\n",
       "    .dataframe tbody tr th:only-of-type {\n",
       "        vertical-align: middle;\n",
       "    }\n",
       "\n",
       "    .dataframe tbody tr th {\n",
       "        vertical-align: top;\n",
       "    }\n",
       "\n",
       "    .dataframe thead th {\n",
       "        text-align: right;\n",
       "    }\n",
       "</style>\n",
       "<table border=\"1\" class=\"dataframe\">\n",
       "  <thead>\n",
       "    <tr style=\"text-align: right;\">\n",
       "      <th></th>\n",
       "      <th>nombre</th>\n",
       "      <th>provincia</th>\n",
       "      <th>numero</th>\n",
       "      <th>numero_oaci</th>\n",
       "    </tr>\n",
       "  </thead>\n",
       "  <tbody>\n",
       "    <tr>\n",
       "      <th>77</th>\n",
       "      <td>BERNARDO DE IRIGOYEN AERO</td>\n",
       "      <td>MISIONES</td>\n",
       "      <td>87163</td>\n",
       "      <td>SATI</td>\n",
       "    </tr>\n",
       "    <tr>\n",
       "      <th>78</th>\n",
       "      <td>IGUAZU AERO</td>\n",
       "      <td>MISIONES</td>\n",
       "      <td>87097</td>\n",
       "      <td>SARI</td>\n",
       "    </tr>\n",
       "    <tr>\n",
       "      <th>79</th>\n",
       "      <td>OBERA</td>\n",
       "      <td>MISIONES</td>\n",
       "      <td>87187</td>\n",
       "      <td>SATO</td>\n",
       "    </tr>\n",
       "    <tr>\n",
       "      <th>80</th>\n",
       "      <td>POSADAS AERO</td>\n",
       "      <td>MISIONES</td>\n",
       "      <td>87178</td>\n",
       "      <td>SARP</td>\n",
       "    </tr>\n",
       "  </tbody>\n",
       "</table>\n",
       "</div>"
      ],
      "text/plain": [
       "                       nombre provincia  numero numero_oaci\n",
       "77  BERNARDO DE IRIGOYEN AERO  MISIONES   87163        SATI\n",
       "78                IGUAZU AERO  MISIONES   87097        SARI\n",
       "79                      OBERA  MISIONES   87187        SATO\n",
       "80               POSADAS AERO  MISIONES   87178        SARP"
      ]
     },
     "execution_count": 3,
     "metadata": {},
     "output_type": "execute_result"
    }
   ],
   "source": [
    "# Ruta del archivo\n",
    "archivo_estaciones = RAW_DIR / 'estaciones' / 'estaciones_smn.txt'\n",
    "\n",
    "# Leer todas las líneas, omitiendo las dos primeras (encabezado y unidades)\n",
    "with open(archivo_estaciones, \"r\", encoding=\"latin1\") as f:\n",
    "    lines = f.readlines()[2:]\n",
    "\n",
    "# Expresión regular para extraer campos:\n",
    "pattern = re.compile(\n",
    "    r\"^(?P<nombre>.+?)\\s{2,}(?P<provincia>.+?)\\s{2,}(?P<lat_gr>-?\\d+)\\s+(?P<lat_min>\\d+)\\s+(?P<lon_gr>-?\\d+)\\s+(?P<lon_min>\\d+)\\s+(?P<altura_m>\\d+)\\s+(?P<numero>\\d+)\\s+(?P<numero_oaci>\\S+)\\s*$\"\n",
    ")\n",
    "\n",
    "# Extraer los datos\n",
    "data = []\n",
    "for line in lines:\n",
    "    match = pattern.match(line)\n",
    "    if match:\n",
    "        data.append(match.groupdict())\n",
    "\n",
    "# Crear DataFrame\n",
    "df_estaciones = pd.DataFrame(data)\n",
    "\n",
    "# Conversión de tipos\n",
    "df_estaciones[['lat_gr', 'lat_min', 'lon_gr', 'lon_min', 'altura_m', 'numero']] = df_estaciones[[\n",
    "    'lat_gr', 'lat_min', 'lon_gr', 'lon_min', 'altura_m', 'numero'\n",
    "]].apply(pd.to_numeric)\n",
    "\n",
    "# Filtrar estaciones de Misiones\n",
    "df_misiones = df_estaciones[df_estaciones['provincia'].str.upper().str.strip() == 'MISIONES']\n",
    "df_misiones[['nombre', 'provincia', 'numero', 'numero_oaci']]"
   ]
  },
  {
   "cell_type": "markdown",
   "id": "e0a9de26",
   "metadata": {},
   "source": [
    "## 4. Selección de estaciones de Misiones"
   ]
  },
  {
   "cell_type": "code",
   "execution_count": 4,
   "id": "e0fa485d",
   "metadata": {},
   "outputs": [
    {
     "data": {
      "text/html": [
       "<div>\n",
       "<style scoped>\n",
       "    .dataframe tbody tr th:only-of-type {\n",
       "        vertical-align: middle;\n",
       "    }\n",
       "\n",
       "    .dataframe tbody tr th {\n",
       "        vertical-align: top;\n",
       "    }\n",
       "\n",
       "    .dataframe thead th {\n",
       "        text-align: right;\n",
       "    }\n",
       "</style>\n",
       "<table border=\"1\" class=\"dataframe\">\n",
       "  <thead>\n",
       "    <tr style=\"text-align: right;\">\n",
       "      <th></th>\n",
       "      <th>nombre</th>\n",
       "      <th>provincia</th>\n",
       "      <th>numero</th>\n",
       "      <th>numero_oaci</th>\n",
       "    </tr>\n",
       "  </thead>\n",
       "  <tbody>\n",
       "    <tr>\n",
       "      <th>77</th>\n",
       "      <td>BERNARDO DE IRIGOYEN AERO</td>\n",
       "      <td>MISIONES</td>\n",
       "      <td>87163</td>\n",
       "      <td>SATI</td>\n",
       "    </tr>\n",
       "    <tr>\n",
       "      <th>78</th>\n",
       "      <td>IGUAZU AERO</td>\n",
       "      <td>MISIONES</td>\n",
       "      <td>87097</td>\n",
       "      <td>SARI</td>\n",
       "    </tr>\n",
       "    <tr>\n",
       "      <th>79</th>\n",
       "      <td>OBERA</td>\n",
       "      <td>MISIONES</td>\n",
       "      <td>87187</td>\n",
       "      <td>SATO</td>\n",
       "    </tr>\n",
       "    <tr>\n",
       "      <th>80</th>\n",
       "      <td>POSADAS AERO</td>\n",
       "      <td>MISIONES</td>\n",
       "      <td>87178</td>\n",
       "      <td>SARP</td>\n",
       "    </tr>\n",
       "  </tbody>\n",
       "</table>\n",
       "</div>"
      ],
      "text/plain": [
       "                       nombre provincia  numero numero_oaci\n",
       "77  BERNARDO DE IRIGOYEN AERO  MISIONES   87163        SATI\n",
       "78                IGUAZU AERO  MISIONES   87097        SARI\n",
       "79                      OBERA  MISIONES   87187        SATO\n",
       "80               POSADAS AERO  MISIONES   87178        SARP"
      ]
     },
     "execution_count": 4,
     "metadata": {},
     "output_type": "execute_result"
    }
   ],
   "source": [
    "df_misiones = df_estaciones[df_estaciones['provincia'].str.upper() == 'MISIONES']\n",
    "df_misiones[['nombre', 'provincia', 'numero', 'numero_oaci']]\n"
   ]
  },
  {
   "cell_type": "markdown",
   "id": "c545f8b9",
   "metadata": {},
   "source": [
    "## 5. Lectura de un archivo horario de ejemplo"
   ]
  },
  {
   "cell_type": "code",
   "execution_count": 5,
   "id": "0c3af388",
   "metadata": {},
   "outputs": [
    {
     "data": {
      "text/html": [
       "<div>\n",
       "<style scoped>\n",
       "    .dataframe tbody tr th:only-of-type {\n",
       "        vertical-align: middle;\n",
       "    }\n",
       "\n",
       "    .dataframe tbody tr th {\n",
       "        vertical-align: top;\n",
       "    }\n",
       "\n",
       "    .dataframe thead th {\n",
       "        text-align: right;\n",
       "    }\n",
       "</style>\n",
       "<table border=\"1\" class=\"dataframe\">\n",
       "  <thead>\n",
       "    <tr style=\"text-align: right;\">\n",
       "      <th></th>\n",
       "      <th>FECHA     HORA  TEMP   HUM   PNM    DD    FF     NOMBRE</th>\n",
       "    </tr>\n",
       "  </thead>\n",
       "  <tbody>\n",
       "    <tr>\n",
       "      <th>0</th>\n",
       "      <td>[HOA]  [ºC]   [%]  [hPa]  [gr] [km/hr...</td>\n",
       "    </tr>\n",
       "    <tr>\n",
       "      <th>1</th>\n",
       "      <td>01062024     0  14.2   82  1015.7   50   17   ...</td>\n",
       "    </tr>\n",
       "    <tr>\n",
       "      <th>2</th>\n",
       "      <td>01062024     1  14.3   80  1015.4  360    9   ...</td>\n",
       "    </tr>\n",
       "    <tr>\n",
       "      <th>3</th>\n",
       "      <td>01062024     2  14.1   86  1015.3  360    9   ...</td>\n",
       "    </tr>\n",
       "    <tr>\n",
       "      <th>4</th>\n",
       "      <td>01062024     3  14.1   87  1014.8  360    7   ...</td>\n",
       "    </tr>\n",
       "  </tbody>\n",
       "</table>\n",
       "</div>"
      ],
      "text/plain": [
       "  FECHA     HORA  TEMP   HUM   PNM    DD    FF     NOMBRE                                             \n",
       "0           [HOA]  [ºC]   [%]  [hPa]  [gr] [km/hr...                                                  \n",
       "1  01062024     0  14.2   82  1015.7   50   17   ...                                                  \n",
       "2  01062024     1  14.3   80  1015.4  360    9   ...                                                  \n",
       "3  01062024     2  14.1   86  1015.3  360    9   ...                                                  \n",
       "4  01062024     3  14.1   87  1014.8  360    7   ...                                                  "
      ]
     },
     "execution_count": 5,
     "metadata": {},
     "output_type": "execute_result"
    }
   ],
   "source": [
    "archivo_dato = RAW_DIR / 'datohorario' / 'datohorario20240601.txt'\n",
    "df_dato = pd.read_csv(archivo_dato, sep=';', encoding='latin1')\n",
    "df_dato.head()\n"
   ]
  },
  {
   "cell_type": "markdown",
   "id": "8425531c",
   "metadata": {},
   "source": [
    "## 6. Limpieza básica y detección de nulos"
   ]
  },
  {
   "cell_type": "code",
   "execution_count": 6,
   "id": "36cc4597",
   "metadata": {},
   "outputs": [
    {
     "name": "stdout",
     "output_type": "stream",
     "text": [
      "Reemplazados 0 valores de 9999.9 y 0 valores de -9999 por NaN.\n",
      "Valores faltantes por columna luego del reemplazo:\n",
      "FECHA     HORA  TEMP   HUM   PNM    DD    FF     NOMBRE                                                 0\n",
      "dtype: int64\n"
     ]
    }
   ],
   "source": [
    "#df_dato.replace({9999.9: np.nan, -9999: np.nan}, inplace=True)\n",
    "#df_dato.isna().sum()\n",
    "\n",
    "# Contar valores a reemplazar antes de la limpieza\n",
    "cant_9999_9 = (df_dato == 9999.9).sum().sum()\n",
    "cant_neg9999 = (df_dato == -9999).sum().sum()\n",
    "\n",
    "# Reemplazar por NaN\n",
    "df_dato.replace({9999.9: np.nan, -9999: np.nan}, inplace=True)\n",
    "\n",
    "# Imprimir resumen\n",
    "print(f\"Reemplazados {cant_9999_9} valores de 9999.9 y {cant_neg9999} valores de -9999 por NaN.\")\n",
    "print(\"Valores faltantes por columna luego del reemplazo:\")\n",
    "print(df_dato.isna().sum())\n"
   ]
  },
  {
   "cell_type": "markdown",
   "id": "7f03c2ef",
   "metadata": {},
   "source": [
    "## 7. Filtro por estación de Misiones"
   ]
  },
  {
   "cell_type": "code",
   "execution_count": 7,
   "id": "1d97ab9a",
   "metadata": {},
   "outputs": [
    {
     "ename": "NameError",
     "evalue": "name 'nombres_misiones' is not defined",
     "output_type": "error",
     "traceback": [
      "\u001b[0;31m---------------------------------------------------------------------------\u001b[0m",
      "\u001b[0;31mNameError\u001b[0m                                 Traceback (most recent call last)",
      "Cell \u001b[0;32mIn[7], line 21\u001b[0m\n\u001b[1;32m     19\u001b[0m \u001b[38;5;66;03m# Filtrar por estaciones de Misiones\u001b[39;00m\n\u001b[1;32m     20\u001b[0m df_dato[\u001b[38;5;124m\"\u001b[39m\u001b[38;5;124mNOMBRE\u001b[39m\u001b[38;5;124m\"\u001b[39m] \u001b[38;5;241m=\u001b[39m df_dato[\u001b[38;5;124m\"\u001b[39m\u001b[38;5;124mNOMBRE\u001b[39m\u001b[38;5;124m\"\u001b[39m]\u001b[38;5;241m.\u001b[39mstr\u001b[38;5;241m.\u001b[39mstrip()\n\u001b[0;32m---> 21\u001b[0m df_misiones_dia \u001b[38;5;241m=\u001b[39m df_dato[df_dato[\u001b[38;5;124m\"\u001b[39m\u001b[38;5;124mNOMBRE\u001b[39m\u001b[38;5;124m\"\u001b[39m]\u001b[38;5;241m.\u001b[39misin(\u001b[43mnombres_misiones\u001b[49m)]\n\u001b[1;32m     22\u001b[0m \u001b[38;5;66;03m#print(df_misiones_dia.head())\u001b[39;00m\n\u001b[1;32m     23\u001b[0m \n\u001b[1;32m     24\u001b[0m \u001b[38;5;66;03m# Mostrar todos los resultados (sin limitar con .head())\u001b[39;00m\n\u001b[1;32m     25\u001b[0m \u001b[38;5;28mprint\u001b[39m(df_misiones_dia\u001b[38;5;241m.\u001b[39mto_string(index\u001b[38;5;241m=\u001b[39m\u001b[38;5;28;01mFalse\u001b[39;00m))\n",
      "\u001b[0;31mNameError\u001b[0m: name 'nombres_misiones' is not defined"
     ]
    }
   ],
   "source": [
    "archivo_dato = RAW_DIR / 'datohorario' / 'datohorario20240601.txt'\n",
    "\n",
    "# Leer todas las líneas, omitiendo las dos primeras (encabezado y unidades)\n",
    "with open(archivo_dato, \"r\", encoding=\"latin1\") as f:\n",
    "    lines = f.readlines()\n",
    "\n",
    "# Detectar columnas separadas por múltiples espacios\n",
    "columnas = re.split(r\"\\s{2,}\", lines[0].strip())\n",
    "\n",
    "# Leer datos\n",
    "data = [\n",
    "    re.split(r\"\\s{2,}\", line.strip(), maxsplit=len(columnas)-1)\n",
    "    for line in lines[1:]\n",
    "    if len(line.strip()) > 0 and not line.isspace()\n",
    "]\n",
    "\n",
    "df_dato = pd.DataFrame(data, columns=columnas)\n",
    "\n",
    "# Filtrar por estaciones de Misiones\n",
    "df_dato[\"NOMBRE\"] = df_dato[\"NOMBRE\"].str.strip()\n",
    "df_misiones_dia = df_dato[df_dato[\"NOMBRE\"].isin(nombres_misiones)]\n",
    "#print(df_misiones_dia.head())\n",
    "\n",
    "# Mostrar todos los resultados (sin limitar con .head())\n",
    "print(df_misiones_dia.to_string(index=False))\n"
   ]
  },
  {
   "cell_type": "markdown",
   "id": "63370d18",
   "metadata": {},
   "source": [
    "## 8. Exportación de archivos filtrados"
   ]
  },
  {
   "cell_type": "code",
   "execution_count": null,
   "id": "9f344ecc",
   "metadata": {},
   "outputs": [],
   "source": [
    "# Crear carpeta de salida si no existe\n",
    "BRONCE_DIR.mkdir(parents=True, exist_ok=True)\n",
    "\n",
    "# Definir la fecha (puede venir del nombre del archivo)\n",
    "fecha = \"20240601\"  # o extraela dinámicamente si lo preferís\n",
    "\n",
    "# Iterar por cada estación de Misiones\n",
    "for nombre in nombres_misiones:\n",
    "    nombre_clean = nombre.lower().replace(' ', '_')\n",
    "    \n",
    "    # Filtrar las filas de esa estación\n",
    "    df_estacion = df_misiones_dia[df_misiones_dia[\"NOMBRE\"] == nombre]\n",
    "    \n",
    "    # Definir archivos de salida con fecha al inicio\n",
    "    salida_csv = BRONCE_DIR / f'{fecha}_{nombre_clean}.csv'\n",
    "    salida_parquet = BRONCE_DIR / f'{fecha}_{nombre_clean}.parquet'\n",
    "    \n",
    "    # Exportar\n",
    "    df_estacion.to_csv(salida_csv, index=False)\n",
    "    df_estacion.to_parquet(salida_parquet, index=False)\n",
    "    \n",
    "    print(f\"Exportado: {salida_csv.name} y {salida_parquet.name}\")\n"
   ]
  },
  {
   "cell_type": "markdown",
   "id": "fd53b561",
   "metadata": {},
   "source": [
    "## 9. Próximos pasos"
   ]
  },
  {
   "cell_type": "markdown",
   "id": "afc7c349",
   "metadata": {},
   "source": [
    "- Extender este proceso a más días o meses.\n",
    "- Organizar las salidas por carpeta `/bronce/{estacion}/{año}/`.\n",
    "- Documentar el diccionario de variables en `metadata/`.\n"
   ]
  },
  {
   "cell_type": "code",
   "execution_count": null,
   "id": "e2c2bbe0",
   "metadata": {},
   "outputs": [],
   "source": [
    "\n",
    "# 🟡 Paso 1: Leer archivo de estaciones y filtrar las de Misiones\n",
    "# --------------------------------------------------------------\n",
    "import pandas as pd\n",
    "import re\n",
    "from pathlib import Path\n",
    "\n",
    "# Definir carpeta de datos crudos\n",
    "RAW_DIR = Path(\"data/raw\")\n",
    "\n",
    "# Leer archivo de estaciones como texto, ignorando las 2 primeras filas\n",
    "archivo_estaciones = RAW_DIR / \"estaciones\" / \"estaciones_smn.txt\"\n",
    "with open(archivo_estaciones, encoding=\"latin1\") as f:\n",
    "    lines = f.readlines()[2:]\n",
    "\n",
    "# Aplicar regex para extraer campos de cada estación\n",
    "pattern = re.compile(\n",
    "    r\"^(?P<nombre>.+?)\\s{2,}(?P<provincia>.+?)\\s{2,}(?P<lat_gr>-?\\d+)\\s+(?P<lat_min>\\d+)\\s+(?P<lon_gr>-?\\d+)\\s+(?P<lon_min>\\d+)\\s+(?P<altura_m>\\d+)\\s+(?P<numero>\\d+)\\s+(?P<numero_oaci>\\S+)\\s*$\"\n",
    ")\n",
    "data = [m.groupdict() for line in lines if (m := pattern.match(line))]\n",
    "\n",
    "# Crear DataFrame y convertir tipos\n",
    "df_estaciones = pd.DataFrame(data)\n",
    "df_estaciones[['lat_gr', 'lat_min', 'lon_gr', 'lon_min', 'altura_m', 'numero']] = df_estaciones[[\n",
    "    'lat_gr', 'lat_min', 'lon_gr', 'lon_min', 'altura_m', 'numero'\n",
    "]].apply(pd.to_numeric)\n",
    "\n",
    "# Filtrar estaciones de la provincia de Misiones\n",
    "df_misiones = df_estaciones[df_estaciones['provincia'].str.upper().str.strip() == \"MISIONES\"]\n",
    "nombres_misiones = df_misiones[\"nombre\"].str.strip().unique()\n",
    "\n",
    "print(\"Estaciones de Misiones:\")\n",
    "print(nombres_misiones)\n",
    "\n",
    "# 🟡 Paso 2: Procesar archivo datohorario por fecha\n",
    "# -------------------------------------------------\n",
    "# Por cada archivo, cargar datos y filtrar por las estaciones de Misiones\n",
    "from glob import glob\n",
    "\n",
    "archivos_datos = sorted(glob(str(RAW_DIR / \"datohorario*.txt\")))\n",
    "print(f\"Se encontraron {len(archivos_datos)} archivos datohorario para procesar\")\n",
    "\n",
    "for archivo in archivos_datos:\n",
    "    print(f\"Procesando: {archivo}\")\n",
    "\n",
    "    # Leer el archivo como texto plano\n",
    "    with open(archivo, encoding=\"latin1\") as f:\n",
    "        raw_lines = f.readlines()\n",
    "\n",
    "    # Obtener nombre de columnas desde la primera línea\n",
    "    header = raw_lines[0].strip()\n",
    "    columnas = re.split(r\"\\s{2,}\", header)\n",
    "\n",
    "    # Procesar líneas de datos\n",
    "    data = [re.split(r\"\\s{2,}\", line.strip(), maxsplit=len(columnas)-1)\n",
    "            for line in raw_lines[1:] if len(line.strip()) > 0 and not line.isspace()]\n",
    "\n",
    "    # Crear DataFrame\n",
    "    df_dato = pd.DataFrame(data, columns=columnas)\n",
    "\n",
    "    # Filtrar por nombre de estación\n",
    "    df_dato_misiones = df_dato[df_dato[\"NOMBRE\"].str.strip().isin(nombres_misiones)]\n",
    "\n",
    "    # Obtener fecha del archivo\n",
    "    nombre_archivo = Path(archivo).stem  # ej: datohorario20240601\n",
    "    fecha = nombre_archivo.replace(\"datohorario\", \"\")\n",
    "\n",
    "    # Exportar resultados\n",
    "    out_csv = RAW_DIR / f\"misiones_{fecha}.csv\"\n",
    "    out_parquet = RAW_DIR / f\"misiones_{fecha}.parquet\"\n",
    "    df_dato_misiones.to_csv(out_csv, index=False)\n",
    "    df_dato_misiones.to_parquet(out_parquet, index=False)\n",
    "\n",
    "    print(f\"Guardado CSV: {out_csv}\")\n",
    "    print(f\"Guardado Parquet: {out_parquet}\")\n"
   ]
  }
 ],
 "metadata": {
  "kernelspec": {
   "display_name": "Python 3 (ipykernel)",
   "language": "python",
   "name": "python3"
  },
  "language_info": {
   "codemirror_mode": {
    "name": "ipython",
    "version": 3
   },
   "file_extension": ".py",
   "mimetype": "text/x-python",
   "name": "python",
   "nbconvert_exporter": "python",
   "pygments_lexer": "ipython3",
   "version": "3.10.18"
  }
 },
 "nbformat": 4,
 "nbformat_minor": 5
}
